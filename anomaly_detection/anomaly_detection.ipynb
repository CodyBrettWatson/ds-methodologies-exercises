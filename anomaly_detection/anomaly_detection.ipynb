{
 "cells": [
  {
   "cell_type": "code",
   "execution_count": 1,
   "metadata": {},
   "outputs": [],
   "source": [
    "from __future__ import division\n",
    "import itertools\n",
    "import warnings\n",
    "warnings.filterwarnings(\"ignore\")\n",
    "import matplotlib.pyplot as plt\n",
    "import matplotlib.dates as mdates\n",
    "from numpy import linspace, loadtxt, ones, convolve\n",
    "from sklearn.ensemble import IsolationForest\n",
    "from sklearn.preprocessing import LabelEncoder\n",
    "import numpy as np\n",
    "import pandas as pd\n",
    "import collections\n",
    "import math\n",
    "from sklearn import metrics\n",
    "from random import randint\n",
    "from matplotlib import style\n",
    "import seaborn as sns\n",
    "# style.use('fivethirtyeight')\n",
    "%matplotlib inline"
   ]
  },
  {
   "cell_type": "code",
   "execution_count": 2,
   "metadata": {},
   "outputs": [],
   "source": [
    "def evaluate(actual, predictions, output=True):\n",
    "    mse = metrics.mean_squared_error(actual, predictions)\n",
    "    rmse = math.sqrt(mse)\n",
    "\n",
    "    if output:\n",
    "        print('MSE:  {}'.format(mse))\n",
    "        print('RMSE: {}'.format(rmse))\n",
    "    else:\n",
    "        return mse, rmse    \n",
    "\n",
    "def plot_and_eval(predictions, actual, metric_fmt='{:.2f}', linewidth=4):\n",
    "    if type(predictions) is not list:\n",
    "        predictions = [predictions]\n",
    "\n",
    "    plt.figure(figsize=(16, 8))\n",
    "    plt.plot(train,label='Train')\n",
    "    plt.plot(test, label='Test')\n",
    "\n",
    "    for yhat in predictions:\n",
    "        mse, rmse = evaluate(actual, yhat, output=False)        \n",
    "        label = f'{yhat.name}'\n",
    "        if len(predictions) > 1:\n",
    "            label = f'{label} -- MSE: {metric_fmt} RMSE: {metric_fmt}'.format(mse, rmse)\n",
    "        plt.plot(yhat, label=label, linewidth=linewidth)\n",
    "\n",
    "    if len(predictions) == 1:\n",
    "        label = f'{label} -- MSE: {metric_fmt} RMSE: {metric_fmt}'.format(mse, rmse)\n",
    "        plt.title(label)\n",
    "\n",
    "    plt.legend(loc='best')\n",
    "    plt.show()    "
   ]
  },
  {
   "cell_type": "code",
   "execution_count": 3,
   "metadata": {},
   "outputs": [],
   "source": [
    "data = pd.read_csv('anonymized-curriculum-access.txt', sep=\" \", header=None)\n",
    "data.columns = [\"date\", \"time\", \"page\", \"student_id\", \"cohort_id\", \"ip\"]\n",
    "data.replace(regex=r'^/$', value='home_page', inplace=True)"
   ]
  },
  {
   "cell_type": "code",
   "execution_count": 4,
   "metadata": {},
   "outputs": [],
   "source": [
    "cohort_21_ipapi = pd.read_csv('cohort_21_ipapi.csv', sep=\",\")"
   ]
  },
  {
   "cell_type": "code",
   "execution_count": 5,
   "metadata": {},
   "outputs": [],
   "source": [
    "data.fillna(0, inplace = True)"
   ]
  },
  {
   "cell_type": "code",
   "execution_count": 6,
   "metadata": {},
   "outputs": [],
   "source": [
    "staff = data.where(data.cohort_id == 0).dropna()"
   ]
  },
  {
   "cell_type": "code",
   "execution_count": 7,
   "metadata": {},
   "outputs": [],
   "source": [
    "cohort_21 = data.where(data.cohort_id == 21).dropna()"
   ]
  },
  {
   "cell_type": "code",
   "execution_count": 8,
   "metadata": {},
   "outputs": [
    {
     "data": {
      "text/html": [
       "<div>\n",
       "<style scoped>\n",
       "    .dataframe tbody tr th:only-of-type {\n",
       "        vertical-align: middle;\n",
       "    }\n",
       "\n",
       "    .dataframe tbody tr th {\n",
       "        vertical-align: top;\n",
       "    }\n",
       "\n",
       "    .dataframe thead th {\n",
       "        text-align: right;\n",
       "    }\n",
       "</style>\n",
       "<table border=\"1\" class=\"dataframe\">\n",
       "  <thead>\n",
       "    <tr style=\"text-align: right;\">\n",
       "      <th></th>\n",
       "      <th>date</th>\n",
       "      <th>time</th>\n",
       "      <th>page</th>\n",
       "      <th>student_id</th>\n",
       "      <th>cohort_id</th>\n",
       "      <th>ip</th>\n",
       "    </tr>\n",
       "  </thead>\n",
       "  <tbody>\n",
       "    <tr>\n",
       "      <th>23</th>\n",
       "      <td>2018-01-26</td>\n",
       "      <td>10:08:22</td>\n",
       "      <td>mkdocs/search_index.json</td>\n",
       "      <td>10.0</td>\n",
       "      <td>21.0</td>\n",
       "      <td>97.105.19.61</td>\n",
       "    </tr>\n",
       "    <tr>\n",
       "      <th>24</th>\n",
       "      <td>2018-01-26</td>\n",
       "      <td>10:08:34</td>\n",
       "      <td>git/merge-conflict-demo</td>\n",
       "      <td>10.0</td>\n",
       "      <td>21.0</td>\n",
       "      <td>97.105.19.61</td>\n",
       "    </tr>\n",
       "    <tr>\n",
       "      <th>25</th>\n",
       "      <td>2018-01-26</td>\n",
       "      <td>10:08:45</td>\n",
       "      <td>mkdocs/search_index.json</td>\n",
       "      <td>10.0</td>\n",
       "      <td>21.0</td>\n",
       "      <td>97.105.19.61</td>\n",
       "    </tr>\n",
       "    <tr>\n",
       "      <th>26</th>\n",
       "      <td>2018-01-26</td>\n",
       "      <td>10:08:55</td>\n",
       "      <td>git/working-in-teams</td>\n",
       "      <td>10.0</td>\n",
       "      <td>21.0</td>\n",
       "      <td>97.105.19.61</td>\n",
       "    </tr>\n",
       "    <tr>\n",
       "      <th>39</th>\n",
       "      <td>2018-01-26</td>\n",
       "      <td>10:18:22</td>\n",
       "      <td>home_page</td>\n",
       "      <td>10.0</td>\n",
       "      <td>21.0</td>\n",
       "      <td>97.105.19.61</td>\n",
       "    </tr>\n",
       "  </tbody>\n",
       "</table>\n",
       "</div>"
      ],
      "text/plain": [
       "          date      time                      page  student_id  cohort_id  \\\n",
       "23  2018-01-26  10:08:22  mkdocs/search_index.json        10.0       21.0   \n",
       "24  2018-01-26  10:08:34   git/merge-conflict-demo        10.0       21.0   \n",
       "25  2018-01-26  10:08:45  mkdocs/search_index.json        10.0       21.0   \n",
       "26  2018-01-26  10:08:55      git/working-in-teams        10.0       21.0   \n",
       "39  2018-01-26  10:18:22                 home_page        10.0       21.0   \n",
       "\n",
       "              ip  \n",
       "23  97.105.19.61  \n",
       "24  97.105.19.61  \n",
       "25  97.105.19.61  \n",
       "26  97.105.19.61  \n",
       "39  97.105.19.61  "
      ]
     },
     "execution_count": 8,
     "metadata": {},
     "output_type": "execute_result"
    }
   ],
   "source": [
    "cohort_21.head()"
   ]
  },
  {
   "cell_type": "code",
   "execution_count": 9,
   "metadata": {},
   "outputs": [
    {
     "data": {
      "text/html": [
       "<div>\n",
       "<style scoped>\n",
       "    .dataframe tbody tr th:only-of-type {\n",
       "        vertical-align: middle;\n",
       "    }\n",
       "\n",
       "    .dataframe tbody tr th {\n",
       "        vertical-align: top;\n",
       "    }\n",
       "\n",
       "    .dataframe thead th {\n",
       "        text-align: right;\n",
       "    }\n",
       "</style>\n",
       "<table border=\"1\" class=\"dataframe\">\n",
       "  <thead>\n",
       "    <tr style=\"text-align: right;\">\n",
       "      <th></th>\n",
       "      <th>IP Address</th>\n",
       "      <th>City</th>\n",
       "      <th>Region</th>\n",
       "      <th>Country</th>\n",
       "      <th>Postal Code</th>\n",
       "      <th>Lat, Long</th>\n",
       "      <th>Timezone</th>\n",
       "      <th>Organization</th>\n",
       "    </tr>\n",
       "  </thead>\n",
       "  <tbody>\n",
       "    <tr>\n",
       "      <th>0</th>\n",
       "      <td>97.105.19.61</td>\n",
       "      <td>San Antonio</td>\n",
       "      <td>Texas</td>\n",
       "      <td>US</td>\n",
       "      <td>78239</td>\n",
       "      <td>29.5, -98.4</td>\n",
       "      <td>America/Chicago (-0500)</td>\n",
       "      <td>Charter Communications Inc</td>\n",
       "    </tr>\n",
       "    <tr>\n",
       "      <th>1</th>\n",
       "      <td>12.189.101.90</td>\n",
       "      <td>San Antonio</td>\n",
       "      <td>Texas</td>\n",
       "      <td>US</td>\n",
       "      <td>78260</td>\n",
       "      <td>29.7, -98.5</td>\n",
       "      <td>America/Chicago (-0500)</td>\n",
       "      <td>AT&amp;T Services, Inc.</td>\n",
       "    </tr>\n",
       "    <tr>\n",
       "      <th>2</th>\n",
       "      <td>104.193.225.250</td>\n",
       "      <td>Longview</td>\n",
       "      <td>Texas</td>\n",
       "      <td>US</td>\n",
       "      <td>75602</td>\n",
       "      <td>32.5, -94.7</td>\n",
       "      <td>America/Chicago (-0500)</td>\n",
       "      <td>HIVELOCITY, Inc.</td>\n",
       "    </tr>\n",
       "    <tr>\n",
       "      <th>3</th>\n",
       "      <td>12.247.3.42</td>\n",
       "      <td>San Antonio</td>\n",
       "      <td>Texas</td>\n",
       "      <td>US</td>\n",
       "      <td>78204</td>\n",
       "      <td>29.4, -98.5</td>\n",
       "      <td>America/Chicago (-0500)</td>\n",
       "      <td>AT&amp;T Services, Inc.</td>\n",
       "    </tr>\n",
       "    <tr>\n",
       "      <th>4</th>\n",
       "      <td>174.207.5.52</td>\n",
       "      <td>Austin</td>\n",
       "      <td>Texas</td>\n",
       "      <td>US</td>\n",
       "      <td>78704</td>\n",
       "      <td>30.2, -97.8</td>\n",
       "      <td>America/Chicago (-0500)</td>\n",
       "      <td>Cellco Partnership DBA Verizon Wireless</td>\n",
       "    </tr>\n",
       "  </tbody>\n",
       "</table>\n",
       "</div>"
      ],
      "text/plain": [
       "        IP Address         City Region Country  Postal Code    Lat, Long  \\\n",
       "0     97.105.19.61  San Antonio  Texas      US        78239  29.5, -98.4   \n",
       "1    12.189.101.90  San Antonio  Texas      US        78260  29.7, -98.5   \n",
       "2  104.193.225.250     Longview  Texas      US        75602  32.5, -94.7   \n",
       "3      12.247.3.42  San Antonio  Texas      US        78204  29.4, -98.5   \n",
       "4     174.207.5.52       Austin  Texas      US        78704  30.2, -97.8   \n",
       "\n",
       "                  Timezone                             Organization  \n",
       "0  America/Chicago (-0500)               Charter Communications Inc  \n",
       "1  America/Chicago (-0500)                      AT&T Services, Inc.  \n",
       "2  America/Chicago (-0500)                         HIVELOCITY, Inc.  \n",
       "3  America/Chicago (-0500)                      AT&T Services, Inc.  \n",
       "4  America/Chicago (-0500)  Cellco Partnership DBA Verizon Wireless  "
      ]
     },
     "execution_count": 9,
     "metadata": {},
     "output_type": "execute_result"
    }
   ],
   "source": [
    "cohort_21_ipapi.head()"
   ]
  },
  {
   "cell_type": "code",
   "execution_count": 10,
   "metadata": {},
   "outputs": [],
   "source": [
    "cohort_21_ipapi.rename(columns={'IP Address':'ip'}, inplace=True)"
   ]
  },
  {
   "cell_type": "code",
   "execution_count": 11,
   "metadata": {
    "scrolled": false
   },
   "outputs": [],
   "source": [
    "c21= cohort_21.merge(cohort_21_ipapi, on='ip')"
   ]
  },
  {
   "cell_type": "code",
   "execution_count": 12,
   "metadata": {},
   "outputs": [],
   "source": [
    "new_latlong = c21['Lat, Long'].str.rsplit(\",\", n=1, expand=True)\n",
    "c21[\"lat\"]= new_latlong[0]\n",
    "c21[\"long\"]= new_latlong[1]"
   ]
  },
  {
   "cell_type": "code",
   "execution_count": 13,
   "metadata": {},
   "outputs": [],
   "source": [
    "c21['datetime'] = c21[['date', 'time']].apply(lambda x: ' '.join(x), axis=1)\n",
    "c21.datetime= pd.to_datetime(c21.datetime) "
   ]
  },
  {
   "cell_type": "code",
   "execution_count": 14,
   "metadata": {},
   "outputs": [],
   "source": [
    "c21 = c21.set_index('datetime')"
   ]
  },
  {
   "cell_type": "code",
   "execution_count": 15,
   "metadata": {},
   "outputs": [
    {
     "data": {
      "text/html": [
       "<div>\n",
       "<style scoped>\n",
       "    .dataframe tbody tr th:only-of-type {\n",
       "        vertical-align: middle;\n",
       "    }\n",
       "\n",
       "    .dataframe tbody tr th {\n",
       "        vertical-align: top;\n",
       "    }\n",
       "\n",
       "    .dataframe thead th {\n",
       "        text-align: right;\n",
       "    }\n",
       "</style>\n",
       "<table border=\"1\" class=\"dataframe\">\n",
       "  <thead>\n",
       "    <tr style=\"text-align: right;\">\n",
       "      <th></th>\n",
       "      <th>date</th>\n",
       "      <th>time</th>\n",
       "      <th>page</th>\n",
       "      <th>student_id</th>\n",
       "      <th>cohort_id</th>\n",
       "      <th>ip</th>\n",
       "      <th>City</th>\n",
       "      <th>Region</th>\n",
       "      <th>Country</th>\n",
       "      <th>Postal Code</th>\n",
       "      <th>Lat, Long</th>\n",
       "      <th>Timezone</th>\n",
       "      <th>Organization</th>\n",
       "      <th>lat</th>\n",
       "      <th>long</th>\n",
       "    </tr>\n",
       "    <tr>\n",
       "      <th>datetime</th>\n",
       "      <th></th>\n",
       "      <th></th>\n",
       "      <th></th>\n",
       "      <th></th>\n",
       "      <th></th>\n",
       "      <th></th>\n",
       "      <th></th>\n",
       "      <th></th>\n",
       "      <th></th>\n",
       "      <th></th>\n",
       "      <th></th>\n",
       "      <th></th>\n",
       "      <th></th>\n",
       "      <th></th>\n",
       "      <th></th>\n",
       "    </tr>\n",
       "  </thead>\n",
       "  <tbody>\n",
       "    <tr>\n",
       "      <th>2018-01-26 10:08:22</th>\n",
       "      <td>2018-01-26</td>\n",
       "      <td>10:08:22</td>\n",
       "      <td>mkdocs/search_index.json</td>\n",
       "      <td>10.0</td>\n",
       "      <td>21.0</td>\n",
       "      <td>97.105.19.61</td>\n",
       "      <td>San Antonio</td>\n",
       "      <td>Texas</td>\n",
       "      <td>US</td>\n",
       "      <td>78239</td>\n",
       "      <td>29.5, -98.4</td>\n",
       "      <td>America/Chicago (-0500)</td>\n",
       "      <td>Charter Communications Inc</td>\n",
       "      <td>29.5</td>\n",
       "      <td>-98.4</td>\n",
       "    </tr>\n",
       "    <tr>\n",
       "      <th>2018-01-26 10:08:34</th>\n",
       "      <td>2018-01-26</td>\n",
       "      <td>10:08:34</td>\n",
       "      <td>git/merge-conflict-demo</td>\n",
       "      <td>10.0</td>\n",
       "      <td>21.0</td>\n",
       "      <td>97.105.19.61</td>\n",
       "      <td>San Antonio</td>\n",
       "      <td>Texas</td>\n",
       "      <td>US</td>\n",
       "      <td>78239</td>\n",
       "      <td>29.5, -98.4</td>\n",
       "      <td>America/Chicago (-0500)</td>\n",
       "      <td>Charter Communications Inc</td>\n",
       "      <td>29.5</td>\n",
       "      <td>-98.4</td>\n",
       "    </tr>\n",
       "    <tr>\n",
       "      <th>2018-01-26 10:08:45</th>\n",
       "      <td>2018-01-26</td>\n",
       "      <td>10:08:45</td>\n",
       "      <td>mkdocs/search_index.json</td>\n",
       "      <td>10.0</td>\n",
       "      <td>21.0</td>\n",
       "      <td>97.105.19.61</td>\n",
       "      <td>San Antonio</td>\n",
       "      <td>Texas</td>\n",
       "      <td>US</td>\n",
       "      <td>78239</td>\n",
       "      <td>29.5, -98.4</td>\n",
       "      <td>America/Chicago (-0500)</td>\n",
       "      <td>Charter Communications Inc</td>\n",
       "      <td>29.5</td>\n",
       "      <td>-98.4</td>\n",
       "    </tr>\n",
       "    <tr>\n",
       "      <th>2018-01-26 10:08:55</th>\n",
       "      <td>2018-01-26</td>\n",
       "      <td>10:08:55</td>\n",
       "      <td>git/working-in-teams</td>\n",
       "      <td>10.0</td>\n",
       "      <td>21.0</td>\n",
       "      <td>97.105.19.61</td>\n",
       "      <td>San Antonio</td>\n",
       "      <td>Texas</td>\n",
       "      <td>US</td>\n",
       "      <td>78239</td>\n",
       "      <td>29.5, -98.4</td>\n",
       "      <td>America/Chicago (-0500)</td>\n",
       "      <td>Charter Communications Inc</td>\n",
       "      <td>29.5</td>\n",
       "      <td>-98.4</td>\n",
       "    </tr>\n",
       "    <tr>\n",
       "      <th>2018-01-26 10:18:22</th>\n",
       "      <td>2018-01-26</td>\n",
       "      <td>10:18:22</td>\n",
       "      <td>home_page</td>\n",
       "      <td>10.0</td>\n",
       "      <td>21.0</td>\n",
       "      <td>97.105.19.61</td>\n",
       "      <td>San Antonio</td>\n",
       "      <td>Texas</td>\n",
       "      <td>US</td>\n",
       "      <td>78239</td>\n",
       "      <td>29.5, -98.4</td>\n",
       "      <td>America/Chicago (-0500)</td>\n",
       "      <td>Charter Communications Inc</td>\n",
       "      <td>29.5</td>\n",
       "      <td>-98.4</td>\n",
       "    </tr>\n",
       "  </tbody>\n",
       "</table>\n",
       "</div>"
      ],
      "text/plain": [
       "                           date      time                      page  \\\n",
       "datetime                                                              \n",
       "2018-01-26 10:08:22  2018-01-26  10:08:22  mkdocs/search_index.json   \n",
       "2018-01-26 10:08:34  2018-01-26  10:08:34   git/merge-conflict-demo   \n",
       "2018-01-26 10:08:45  2018-01-26  10:08:45  mkdocs/search_index.json   \n",
       "2018-01-26 10:08:55  2018-01-26  10:08:55      git/working-in-teams   \n",
       "2018-01-26 10:18:22  2018-01-26  10:18:22                 home_page   \n",
       "\n",
       "                     student_id  cohort_id            ip         City Region  \\\n",
       "datetime                                                                       \n",
       "2018-01-26 10:08:22        10.0       21.0  97.105.19.61  San Antonio  Texas   \n",
       "2018-01-26 10:08:34        10.0       21.0  97.105.19.61  San Antonio  Texas   \n",
       "2018-01-26 10:08:45        10.0       21.0  97.105.19.61  San Antonio  Texas   \n",
       "2018-01-26 10:08:55        10.0       21.0  97.105.19.61  San Antonio  Texas   \n",
       "2018-01-26 10:18:22        10.0       21.0  97.105.19.61  San Antonio  Texas   \n",
       "\n",
       "                    Country  Postal Code    Lat, Long  \\\n",
       "datetime                                                \n",
       "2018-01-26 10:08:22      US        78239  29.5, -98.4   \n",
       "2018-01-26 10:08:34      US        78239  29.5, -98.4   \n",
       "2018-01-26 10:08:45      US        78239  29.5, -98.4   \n",
       "2018-01-26 10:08:55      US        78239  29.5, -98.4   \n",
       "2018-01-26 10:18:22      US        78239  29.5, -98.4   \n",
       "\n",
       "                                    Timezone                Organization  \\\n",
       "datetime                                                                   \n",
       "2018-01-26 10:08:22  America/Chicago (-0500)  Charter Communications Inc   \n",
       "2018-01-26 10:08:34  America/Chicago (-0500)  Charter Communications Inc   \n",
       "2018-01-26 10:08:45  America/Chicago (-0500)  Charter Communications Inc   \n",
       "2018-01-26 10:08:55  America/Chicago (-0500)  Charter Communications Inc   \n",
       "2018-01-26 10:18:22  America/Chicago (-0500)  Charter Communications Inc   \n",
       "\n",
       "                      lat    long  \n",
       "datetime                           \n",
       "2018-01-26 10:08:22  29.5   -98.4  \n",
       "2018-01-26 10:08:34  29.5   -98.4  \n",
       "2018-01-26 10:08:45  29.5   -98.4  \n",
       "2018-01-26 10:08:55  29.5   -98.4  \n",
       "2018-01-26 10:18:22  29.5   -98.4  "
      ]
     },
     "execution_count": 15,
     "metadata": {},
     "output_type": "execute_result"
    }
   ],
   "source": [
    "c21.head()"
   ]
  },
  {
   "cell_type": "code",
   "execution_count": 16,
   "metadata": {},
   "outputs": [
    {
     "data": {
      "text/plain": [
       "Index(['date', 'time', 'page', 'student_id', 'cohort_id', 'ip', 'City',\n",
       "       'Region', 'Country', 'Postal Code', 'Lat, Long', 'Timezone',\n",
       "       'Organization', 'lat', 'long'],\n",
       "      dtype='object')"
      ]
     },
     "execution_count": 16,
     "metadata": {},
     "output_type": "execute_result"
    }
   ],
   "source": [
    "c21.columns"
   ]
  },
  {
   "cell_type": "code",
   "execution_count": 17,
   "metadata": {},
   "outputs": [],
   "source": [
    "c21 = c21.reindex(columns=['Timezone', 'page', 'student_id', 'cohort_id', 'ip', 'City','Region'])"
   ]
  },
  {
   "cell_type": "code",
   "execution_count": 18,
   "metadata": {},
   "outputs": [
    {
     "data": {
      "text/html": [
       "<div>\n",
       "<style scoped>\n",
       "    .dataframe tbody tr th:only-of-type {\n",
       "        vertical-align: middle;\n",
       "    }\n",
       "\n",
       "    .dataframe tbody tr th {\n",
       "        vertical-align: top;\n",
       "    }\n",
       "\n",
       "    .dataframe thead th {\n",
       "        text-align: right;\n",
       "    }\n",
       "</style>\n",
       "<table border=\"1\" class=\"dataframe\">\n",
       "  <thead>\n",
       "    <tr style=\"text-align: right;\">\n",
       "      <th></th>\n",
       "      <th>Timezone</th>\n",
       "      <th>page</th>\n",
       "      <th>student_id</th>\n",
       "      <th>cohort_id</th>\n",
       "      <th>ip</th>\n",
       "      <th>City</th>\n",
       "      <th>Region</th>\n",
       "    </tr>\n",
       "    <tr>\n",
       "      <th>datetime</th>\n",
       "      <th></th>\n",
       "      <th></th>\n",
       "      <th></th>\n",
       "      <th></th>\n",
       "      <th></th>\n",
       "      <th></th>\n",
       "      <th></th>\n",
       "    </tr>\n",
       "  </thead>\n",
       "  <tbody>\n",
       "    <tr>\n",
       "      <th>2018-01-26 10:08:22</th>\n",
       "      <td>America/Chicago (-0500)</td>\n",
       "      <td>mkdocs/search_index.json</td>\n",
       "      <td>10.0</td>\n",
       "      <td>21.0</td>\n",
       "      <td>97.105.19.61</td>\n",
       "      <td>San Antonio</td>\n",
       "      <td>Texas</td>\n",
       "    </tr>\n",
       "    <tr>\n",
       "      <th>2018-01-26 10:08:34</th>\n",
       "      <td>America/Chicago (-0500)</td>\n",
       "      <td>git/merge-conflict-demo</td>\n",
       "      <td>10.0</td>\n",
       "      <td>21.0</td>\n",
       "      <td>97.105.19.61</td>\n",
       "      <td>San Antonio</td>\n",
       "      <td>Texas</td>\n",
       "    </tr>\n",
       "    <tr>\n",
       "      <th>2018-01-26 10:08:45</th>\n",
       "      <td>America/Chicago (-0500)</td>\n",
       "      <td>mkdocs/search_index.json</td>\n",
       "      <td>10.0</td>\n",
       "      <td>21.0</td>\n",
       "      <td>97.105.19.61</td>\n",
       "      <td>San Antonio</td>\n",
       "      <td>Texas</td>\n",
       "    </tr>\n",
       "    <tr>\n",
       "      <th>2018-01-26 10:08:55</th>\n",
       "      <td>America/Chicago (-0500)</td>\n",
       "      <td>git/working-in-teams</td>\n",
       "      <td>10.0</td>\n",
       "      <td>21.0</td>\n",
       "      <td>97.105.19.61</td>\n",
       "      <td>San Antonio</td>\n",
       "      <td>Texas</td>\n",
       "    </tr>\n",
       "    <tr>\n",
       "      <th>2018-01-26 10:18:22</th>\n",
       "      <td>America/Chicago (-0500)</td>\n",
       "      <td>home_page</td>\n",
       "      <td>10.0</td>\n",
       "      <td>21.0</td>\n",
       "      <td>97.105.19.61</td>\n",
       "      <td>San Antonio</td>\n",
       "      <td>Texas</td>\n",
       "    </tr>\n",
       "  </tbody>\n",
       "</table>\n",
       "</div>"
      ],
      "text/plain": [
       "                                    Timezone                      page  \\\n",
       "datetime                                                                 \n",
       "2018-01-26 10:08:22  America/Chicago (-0500)  mkdocs/search_index.json   \n",
       "2018-01-26 10:08:34  America/Chicago (-0500)   git/merge-conflict-demo   \n",
       "2018-01-26 10:08:45  America/Chicago (-0500)  mkdocs/search_index.json   \n",
       "2018-01-26 10:08:55  America/Chicago (-0500)      git/working-in-teams   \n",
       "2018-01-26 10:18:22  America/Chicago (-0500)                 home_page   \n",
       "\n",
       "                     student_id  cohort_id            ip         City Region  \n",
       "datetime                                                                      \n",
       "2018-01-26 10:08:22        10.0       21.0  97.105.19.61  San Antonio  Texas  \n",
       "2018-01-26 10:08:34        10.0       21.0  97.105.19.61  San Antonio  Texas  \n",
       "2018-01-26 10:08:45        10.0       21.0  97.105.19.61  San Antonio  Texas  \n",
       "2018-01-26 10:08:55        10.0       21.0  97.105.19.61  San Antonio  Texas  \n",
       "2018-01-26 10:18:22        10.0       21.0  97.105.19.61  San Antonio  Texas  "
      ]
     },
     "execution_count": 18,
     "metadata": {},
     "output_type": "execute_result"
    }
   ],
   "source": [
    "c21.head()"
   ]
  },
  {
   "cell_type": "code",
   "execution_count": 19,
   "metadata": {},
   "outputs": [
    {
     "data": {
      "text/plain": [
       "(6465, 7)"
      ]
     },
     "execution_count": 19,
     "metadata": {},
     "output_type": "execute_result"
    }
   ],
   "source": [
    "c21.shape"
   ]
  },
  {
   "cell_type": "code",
   "execution_count": 20,
   "metadata": {},
   "outputs": [
    {
     "data": {
      "text/plain": [
       "284"
      ]
     },
     "execution_count": 20,
     "metadata": {},
     "output_type": "execute_result"
    }
   ],
   "source": [
    "len(c21.page.unique())"
   ]
  },
  {
   "cell_type": "code",
   "execution_count": 21,
   "metadata": {},
   "outputs": [],
   "source": [
    "le = LabelEncoder()\n",
    "encoder_page = LabelEncoder()\n",
    "encoder_page.fit(c21.page)\n",
    "c21 = c21.assign(page_encode=encoder_page.transform(c21.page))"
   ]
  },
  {
   "cell_type": "code",
   "execution_count": 22,
   "metadata": {},
   "outputs": [
    {
     "data": {
      "text/html": [
       "<div>\n",
       "<style scoped>\n",
       "    .dataframe tbody tr th:only-of-type {\n",
       "        vertical-align: middle;\n",
       "    }\n",
       "\n",
       "    .dataframe tbody tr th {\n",
       "        vertical-align: top;\n",
       "    }\n",
       "\n",
       "    .dataframe thead th {\n",
       "        text-align: right;\n",
       "    }\n",
       "</style>\n",
       "<table border=\"1\" class=\"dataframe\">\n",
       "  <thead>\n",
       "    <tr style=\"text-align: right;\">\n",
       "      <th></th>\n",
       "      <th>Timezone</th>\n",
       "      <th>page</th>\n",
       "      <th>student_id</th>\n",
       "      <th>cohort_id</th>\n",
       "      <th>ip</th>\n",
       "      <th>City</th>\n",
       "      <th>Region</th>\n",
       "      <th>page_encode</th>\n",
       "    </tr>\n",
       "    <tr>\n",
       "      <th>datetime</th>\n",
       "      <th></th>\n",
       "      <th></th>\n",
       "      <th></th>\n",
       "      <th></th>\n",
       "      <th></th>\n",
       "      <th></th>\n",
       "      <th></th>\n",
       "      <th></th>\n",
       "    </tr>\n",
       "  </thead>\n",
       "  <tbody>\n",
       "    <tr>\n",
       "      <th>2018-01-26 10:08:22</th>\n",
       "      <td>America/Chicago (-0500)</td>\n",
       "      <td>mkdocs/search_index.json</td>\n",
       "      <td>10.0</td>\n",
       "      <td>21.0</td>\n",
       "      <td>97.105.19.61</td>\n",
       "      <td>San Antonio</td>\n",
       "      <td>Texas</td>\n",
       "      <td>215</td>\n",
       "    </tr>\n",
       "    <tr>\n",
       "      <th>2018-01-26 10:08:34</th>\n",
       "      <td>America/Chicago (-0500)</td>\n",
       "      <td>git/merge-conflict-demo</td>\n",
       "      <td>10.0</td>\n",
       "      <td>21.0</td>\n",
       "      <td>97.105.19.61</td>\n",
       "      <td>San Antonio</td>\n",
       "      <td>Texas</td>\n",
       "      <td>120</td>\n",
       "    </tr>\n",
       "    <tr>\n",
       "      <th>2018-01-26 10:08:45</th>\n",
       "      <td>America/Chicago (-0500)</td>\n",
       "      <td>mkdocs/search_index.json</td>\n",
       "      <td>10.0</td>\n",
       "      <td>21.0</td>\n",
       "      <td>97.105.19.61</td>\n",
       "      <td>San Antonio</td>\n",
       "      <td>Texas</td>\n",
       "      <td>215</td>\n",
       "    </tr>\n",
       "    <tr>\n",
       "      <th>2018-01-26 10:08:55</th>\n",
       "      <td>America/Chicago (-0500)</td>\n",
       "      <td>git/working-in-teams</td>\n",
       "      <td>10.0</td>\n",
       "      <td>21.0</td>\n",
       "      <td>97.105.19.61</td>\n",
       "      <td>San Antonio</td>\n",
       "      <td>Texas</td>\n",
       "      <td>121</td>\n",
       "    </tr>\n",
       "    <tr>\n",
       "      <th>2018-01-26 10:18:22</th>\n",
       "      <td>America/Chicago (-0500)</td>\n",
       "      <td>home_page</td>\n",
       "      <td>10.0</td>\n",
       "      <td>21.0</td>\n",
       "      <td>97.105.19.61</td>\n",
       "      <td>San Antonio</td>\n",
       "      <td>Texas</td>\n",
       "      <td>123</td>\n",
       "    </tr>\n",
       "  </tbody>\n",
       "</table>\n",
       "</div>"
      ],
      "text/plain": [
       "                                    Timezone                      page  \\\n",
       "datetime                                                                 \n",
       "2018-01-26 10:08:22  America/Chicago (-0500)  mkdocs/search_index.json   \n",
       "2018-01-26 10:08:34  America/Chicago (-0500)   git/merge-conflict-demo   \n",
       "2018-01-26 10:08:45  America/Chicago (-0500)  mkdocs/search_index.json   \n",
       "2018-01-26 10:08:55  America/Chicago (-0500)      git/working-in-teams   \n",
       "2018-01-26 10:18:22  America/Chicago (-0500)                 home_page   \n",
       "\n",
       "                     student_id  cohort_id            ip         City Region  \\\n",
       "datetime                                                                       \n",
       "2018-01-26 10:08:22        10.0       21.0  97.105.19.61  San Antonio  Texas   \n",
       "2018-01-26 10:08:34        10.0       21.0  97.105.19.61  San Antonio  Texas   \n",
       "2018-01-26 10:08:45        10.0       21.0  97.105.19.61  San Antonio  Texas   \n",
       "2018-01-26 10:08:55        10.0       21.0  97.105.19.61  San Antonio  Texas   \n",
       "2018-01-26 10:18:22        10.0       21.0  97.105.19.61  San Antonio  Texas   \n",
       "\n",
       "                     page_encode  \n",
       "datetime                          \n",
       "2018-01-26 10:08:22          215  \n",
       "2018-01-26 10:08:34          120  \n",
       "2018-01-26 10:08:45          215  \n",
       "2018-01-26 10:08:55          121  \n",
       "2018-01-26 10:18:22          123  "
      ]
     },
     "execution_count": 22,
     "metadata": {},
     "output_type": "execute_result"
    }
   ],
   "source": [
    "c21.head()"
   ]
  },
  {
   "cell_type": "code",
   "execution_count": 23,
   "metadata": {},
   "outputs": [
    {
     "data": {
      "text/plain": [
       "Timestamp('2018-01-26 10:08:22')"
      ]
     },
     "execution_count": 23,
     "metadata": {},
     "output_type": "execute_result"
    }
   ],
   "source": [
    "c21.index.min()"
   ]
  },
  {
   "cell_type": "code",
   "execution_count": 24,
   "metadata": {},
   "outputs": [
    {
     "data": {
      "text/plain": [
       "Timestamp('2019-04-01 16:08:14')"
      ]
     },
     "execution_count": 24,
     "metadata": {},
     "output_type": "execute_result"
    }
   ],
   "source": [
    "c21.index.max()"
   ]
  },
  {
   "cell_type": "code",
   "execution_count": 25,
   "metadata": {
    "scrolled": true
   },
   "outputs": [
    {
     "data": {
      "image/png": "[encoded data removed]",
      "text/plain": [
       "<Figure size 864x576 with 1 Axes>"
      ]
     },
     "metadata": {
      "needs_background": "light"
     },
     "output_type": "display_data"
    }
   ],
   "source": [
    "start_date_train = c21.page_encode.head(1).index[0]\n",
    "end_date_train = '2018-06-01 23:59:59'\n",
    "start_date_test = '2018-06-02 00:00:00'\n",
    "\n",
    "train = c21.page_encode[:end_date_train]\n",
    "test = c21.page_encode[start_date_test:]\n",
    "\n",
    "plt.figure(figsize=(12, 8))\n",
    "plt.plot(train)\n",
    "plt.plot(test)\n",
    "plt.show()"
   ]
  },
  {
   "cell_type": "code",
   "execution_count": 26,
   "metadata": {},
   "outputs": [
    {
     "ename": "NameError",
     "evalue": "name 'env' is not defined",
     "output_type": "error",
     "traceback": [
      "\u001b[0;31m---------------------------------------------------------------------------\u001b[0m",
      "\u001b[0;31mNameError\u001b[0m                                 Traceback (most recent call last)",
      "\u001b[0;32m<ipython-input-26-283f5a96501c>\u001b[0m in \u001b[0;36m<module>\u001b[0;34m\u001b[0m\n\u001b[1;32m      1\u001b[0m \u001b[0mip_data\u001b[0m \u001b[0;34m=\u001b[0m \u001b[0;34m{\u001b[0m\u001b[0;34m}\u001b[0m\u001b[0;34m\u001b[0m\u001b[0;34m\u001b[0m\u001b[0m\n\u001b[1;32m      2\u001b[0m \u001b[0;32mfor\u001b[0m \u001b[0mip\u001b[0m \u001b[0;32min\u001b[0m \u001b[0mdata\u001b[0m\u001b[0;34m.\u001b[0m\u001b[0mip\u001b[0m\u001b[0;34m.\u001b[0m\u001b[0munique\u001b[0m\u001b[0;34m(\u001b[0m\u001b[0;34m)\u001b[0m\u001b[0;34m:\u001b[0m\u001b[0;34m\u001b[0m\u001b[0;34m\u001b[0m\u001b[0m\n\u001b[0;32m----> 3\u001b[0;31m     \u001b[0mapi_path\u001b[0m \u001b[0;34m=\u001b[0m \u001b[0;34mf\"http://api.ipapi.com/{ip}?access_key={env.api_key}\"\u001b[0m\u001b[0;34m\u001b[0m\u001b[0;34m\u001b[0m\u001b[0m\n\u001b[0m\u001b[1;32m      4\u001b[0m     \u001b[0mdata\u001b[0m \u001b[0;34m=\u001b[0m \u001b[0mrequests\u001b[0m\u001b[0;34m.\u001b[0m\u001b[0mget\u001b[0m\u001b[0;34m(\u001b[0m\u001b[0mapi_path\u001b[0m\u001b[0;34m)\u001b[0m\u001b[0;34m.\u001b[0m\u001b[0mjson\u001b[0m\u001b[0;34m(\u001b[0m\u001b[0;34m)\u001b[0m\u001b[0;34m\u001b[0m\u001b[0;34m\u001b[0m\u001b[0m\n\u001b[1;32m      5\u001b[0m     \u001b[0mip_data\u001b[0m\u001b[0;34m[\u001b[0m\u001b[0mip\u001b[0m\u001b[0;34m]\u001b[0m \u001b[0;34m=\u001b[0m \u001b[0mdata\u001b[0m\u001b[0;34m\u001b[0m\u001b[0;34m\u001b[0m\u001b[0m\n",
      "\u001b[0;31mNameError\u001b[0m: name 'env' is not defined"
     ]
    }
   ],
   "source": [
    "ip_data = {}\n",
    "for ip in data.ip.unique():\n",
    "    api_path = f\"http://api.ipapi.com/{ip}?access_key={env.api_key}\"\n",
    "    data = requests.get(api_path).json()\n",
    "    ip_data[ip] = data"
   ]
  },
  {
   "cell_type": "code",
   "execution_count": null,
   "metadata": {},
   "outputs": [],
   "source": []
  }
 ],
 "metadata": {
  "kernelspec": {
   "display_name": "Python 3",
   "language": "python",
   "name": "python3"
  },
  "language_info": {
   "codemirror_mode": {
    "name": "ipython",
    "version": 3
   },
   "file_extension": ".py",
   "mimetype": "text/x-python",
   "name": "python",
   "nbconvert_exporter": "python",
   "pygments_lexer": "ipython3",
   "version": "3.7.1"
  }
 },
 "nbformat": 4,
 "nbformat_minor": 2
}
