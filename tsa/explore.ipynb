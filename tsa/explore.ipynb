{
 "cells": [
  {
   "cell_type": "code",
   "execution_count": 1,
   "metadata": {},
   "outputs": [],
   "source": [
    "import pandas as pd"
   ]
  },
  {
   "cell_type": "code",
   "execution_count": 2,
   "metadata": {},
   "outputs": [
    {
     "data": {
      "text/plain": [
       "['97.105.19.58',\n",
       " '-',\n",
       " '-',\n",
       " '[16/Apr/2019:19:34:42',\n",
       " '+0000]',\n",
       " '\"GET',\n",
       " '/api/v1/sales?page=81',\n",
       " 'HTTP/1.1\"',\n",
       " '200',\n",
       " '512495',\n",
       " '\"-\"',\n",
       " '\"python-requests/2.21.0\"']"
      ]
     },
     "execution_count": 2,
     "metadata": {},
     "output_type": "execute_result"
    }
   ],
   "source": [
    "import csv\n",
    "\n",
    "with open('access.log') as file:\n",
    "    lines = file.read().splitlines()\n",
    "    lines = [lines[x:x+1] for x in range(0, len(lines), 3)]\n",
    "\n",
    "    with open('access_log2.csv', 'w+') as csvfile:\n",
    "        w = csv.writer(csvfile)\n",
    "        w.writerows(lines)\n",
    "    \n",
    "with open ('./access.log') as f:\n",
    "           contents = f.read()\n",
    "lines = contents.splitlines()\n",
    "line = lines[0]\n",
    "line.split(' ')"
   ]
  },
  {
   "cell_type": "code",
   "execution_count": 3,
   "metadata": {},
   "outputs": [],
   "source": [
    "df = pd.read_csv('access_log.csv', sep='\\t')"
   ]
  },
  {
   "cell_type": "code",
   "execution_count": 4,
   "metadata": {},
   "outputs": [],
   "source": [
    "with open ('./access.log') as f:\n",
    "           contents = f.read()\n",
    "lines = contents.splitlines()\n",
    "line = lines[0]\n",
    "lineone = line.split(' ')"
   ]
  },
  {
   "cell_type": "code",
   "execution_count": 22,
   "metadata": {},
   "outputs": [],
   "source": [
    "test = pd.DataFrame([lineone])"
   ]
  },
  {
   "cell_type": "code",
   "execution_count": 23,
   "metadata": {},
   "outputs": [
    {
     "data": {
      "text/html": [
       "<div>\n",
       "<style scoped>\n",
       "    .dataframe tbody tr th:only-of-type {\n",
       "        vertical-align: middle;\n",
       "    }\n",
       "\n",
       "    .dataframe tbody tr th {\n",
       "        vertical-align: top;\n",
       "    }\n",
       "\n",
       "    .dataframe thead th {\n",
       "        text-align: right;\n",
       "    }\n",
       "</style>\n",
       "<table border=\"1\" class=\"dataframe\">\n",
       "  <thead>\n",
       "    <tr style=\"text-align: right;\">\n",
       "      <th></th>\n",
       "      <th>0</th>\n",
       "      <th>1</th>\n",
       "      <th>2</th>\n",
       "      <th>3</th>\n",
       "      <th>4</th>\n",
       "      <th>5</th>\n",
       "      <th>6</th>\n",
       "      <th>7</th>\n",
       "      <th>8</th>\n",
       "      <th>9</th>\n",
       "      <th>10</th>\n",
       "      <th>11</th>\n",
       "    </tr>\n",
       "  </thead>\n",
       "  <tbody>\n",
       "    <tr>\n",
       "      <th>0</th>\n",
       "      <td>97.105.19.58</td>\n",
       "      <td>-</td>\n",
       "      <td>-</td>\n",
       "      <td>[16/Apr/2019:19:34:42</td>\n",
       "      <td>+0000]</td>\n",
       "      <td>\"GET</td>\n",
       "      <td>/api/v1/sales?page=81</td>\n",
       "      <td>HTTP/1.1\"</td>\n",
       "      <td>200</td>\n",
       "      <td>512495</td>\n",
       "      <td>\"-\"</td>\n",
       "      <td>\"python-requests/2.21.0\"</td>\n",
       "    </tr>\n",
       "  </tbody>\n",
       "</table>\n",
       "</div>"
      ],
      "text/plain": [
       "             0  1  2                      3       4     5   \\\n",
       "0  97.105.19.58  -  -  [16/Apr/2019:19:34:42  +0000]  \"GET   \n",
       "\n",
       "                      6          7    8       9    10  \\\n",
       "0  /api/v1/sales?page=81  HTTP/1.1\"  200  512495  \"-\"   \n",
       "\n",
       "                         11  \n",
       "0  \"python-requests/2.21.0\"  "
      ]
     },
     "execution_count": 23,
     "metadata": {},
     "output_type": "execute_result"
    }
   ],
   "source": [
    "test"
   ]
  },
  {
   "cell_type": "code",
   "execution_count": 25,
   "metadata": {},
   "outputs": [],
   "source": [
    "test.columns = ['ip','drop1','drop2', 'date_time','addbackDT', 'get','addbackGET1','addbackGET2','http_status_code','content_length', 'drop3', 'user_agent']"
   ]
  },
  {
   "cell_type": "code",
   "execution_count": 26,
   "metadata": {},
   "outputs": [
    {
     "data": {
      "text/html": [
       "<div>\n",
       "<style scoped>\n",
       "    .dataframe tbody tr th:only-of-type {\n",
       "        vertical-align: middle;\n",
       "    }\n",
       "\n",
       "    .dataframe tbody tr th {\n",
       "        vertical-align: top;\n",
       "    }\n",
       "\n",
       "    .dataframe thead th {\n",
       "        text-align: right;\n",
       "    }\n",
       "</style>\n",
       "<table border=\"1\" class=\"dataframe\">\n",
       "  <thead>\n",
       "    <tr style=\"text-align: right;\">\n",
       "      <th></th>\n",
       "      <th>ip</th>\n",
       "      <th>drop1</th>\n",
       "      <th>drop2</th>\n",
       "      <th>date_time</th>\n",
       "      <th>addbackDT</th>\n",
       "      <th>get</th>\n",
       "      <th>addbackGET1</th>\n",
       "      <th>addbackGET2</th>\n",
       "      <th>http_status_code</th>\n",
       "      <th>content_length</th>\n",
       "      <th>drop3</th>\n",
       "      <th>user_agent</th>\n",
       "    </tr>\n",
       "  </thead>\n",
       "  <tbody>\n",
       "    <tr>\n",
       "      <th>0</th>\n",
       "      <td>97.105.19.58</td>\n",
       "      <td>-</td>\n",
       "      <td>-</td>\n",
       "      <td>[16/Apr/2019:19:34:42</td>\n",
       "      <td>+0000]</td>\n",
       "      <td>\"GET</td>\n",
       "      <td>/api/v1/sales?page=81</td>\n",
       "      <td>HTTP/1.1\"</td>\n",
       "      <td>200</td>\n",
       "      <td>512495</td>\n",
       "      <td>\"-\"</td>\n",
       "      <td>\"python-requests/2.21.0\"</td>\n",
       "    </tr>\n",
       "  </tbody>\n",
       "</table>\n",
       "</div>"
      ],
      "text/plain": [
       "             ip drop1 drop2              date_time addbackDT   get  \\\n",
       "0  97.105.19.58     -     -  [16/Apr/2019:19:34:42    +0000]  \"GET   \n",
       "\n",
       "             addbackGET1 addbackGET2 http_status_code content_length drop3  \\\n",
       "0  /api/v1/sales?page=81   HTTP/1.1\"              200         512495   \"-\"   \n",
       "\n",
       "                 user_agent  \n",
       "0  \"python-requests/2.21.0\"  "
      ]
     },
     "execution_count": 26,
     "metadata": {},
     "output_type": "execute_result"
    }
   ],
   "source": [
    "test"
   ]
  },
  {
   "cell_type": "code",
   "execution_count": 29,
   "metadata": {},
   "outputs": [],
   "source": [
    "test.drop(['drop1', 'drop2', 'drop3'], axis=1, inplace=True)"
   ]
  },
  {
   "cell_type": "code",
   "execution_count": 30,
   "metadata": {},
   "outputs": [
    {
     "data": {
      "text/html": [
       "<div>\n",
       "<style scoped>\n",
       "    .dataframe tbody tr th:only-of-type {\n",
       "        vertical-align: middle;\n",
       "    }\n",
       "\n",
       "    .dataframe tbody tr th {\n",
       "        vertical-align: top;\n",
       "    }\n",
       "\n",
       "    .dataframe thead th {\n",
       "        text-align: right;\n",
       "    }\n",
       "</style>\n",
       "<table border=\"1\" class=\"dataframe\">\n",
       "  <thead>\n",
       "    <tr style=\"text-align: right;\">\n",
       "      <th></th>\n",
       "      <th>ip</th>\n",
       "      <th>date_time</th>\n",
       "      <th>addbackDT</th>\n",
       "      <th>get</th>\n",
       "      <th>addbackGET1</th>\n",
       "      <th>addbackGET2</th>\n",
       "      <th>http_status_code</th>\n",
       "      <th>content_length</th>\n",
       "      <th>user_agent</th>\n",
       "    </tr>\n",
       "  </thead>\n",
       "  <tbody>\n",
       "    <tr>\n",
       "      <th>0</th>\n",
       "      <td>97.105.19.58</td>\n",
       "      <td>[16/Apr/2019:19:34:42</td>\n",
       "      <td>+0000]</td>\n",
       "      <td>\"GET</td>\n",
       "      <td>/api/v1/sales?page=81</td>\n",
       "      <td>HTTP/1.1\"</td>\n",
       "      <td>200</td>\n",
       "      <td>512495</td>\n",
       "      <td>\"python-requests/2.21.0\"</td>\n",
       "    </tr>\n",
       "  </tbody>\n",
       "</table>\n",
       "</div>"
      ],
      "text/plain": [
       "             ip              date_time addbackDT   get            addbackGET1  \\\n",
       "0  97.105.19.58  [16/Apr/2019:19:34:42    +0000]  \"GET  /api/v1/sales?page=81   \n",
       "\n",
       "  addbackGET2 http_status_code content_length                user_agent  \n",
       "0   HTTP/1.1\"              200         512495  \"python-requests/2.21.0\"  "
      ]
     },
     "execution_count": 30,
     "metadata": {},
     "output_type": "execute_result"
    }
   ],
   "source": [
    "test"
   ]
  },
  {
   "cell_type": "code",
   "execution_count": 34,
   "metadata": {},
   "outputs": [
    {
     "data": {
      "text/html": [
       "<div>\n",
       "<style scoped>\n",
       "    .dataframe tbody tr th:only-of-type {\n",
       "        vertical-align: middle;\n",
       "    }\n",
       "\n",
       "    .dataframe tbody tr th {\n",
       "        vertical-align: top;\n",
       "    }\n",
       "\n",
       "    .dataframe thead th {\n",
       "        text-align: right;\n",
       "    }\n",
       "</style>\n",
       "<table border=\"1\" class=\"dataframe\">\n",
       "  <thead>\n",
       "    <tr style=\"text-align: right;\">\n",
       "      <th></th>\n",
       "      <th>ip</th>\n",
       "      <th>date_time</th>\n",
       "      <th>addbackDT</th>\n",
       "      <th>get</th>\n",
       "      <th>addbackGET1</th>\n",
       "      <th>addbackGET2</th>\n",
       "      <th>http_status_code</th>\n",
       "      <th>content_length</th>\n",
       "      <th>user_agent</th>\n",
       "    </tr>\n",
       "  </thead>\n",
       "  <tbody>\n",
       "    <tr>\n",
       "      <th>0</th>\n",
       "      <td>97.105.19.58</td>\n",
       "      <td>[16/Apr/2019:19:34:42</td>\n",
       "      <td>+0000]</td>\n",
       "      <td>GET</td>\n",
       "      <td>/api/v1/sales?page=81</td>\n",
       "      <td>HTTP/1.1</td>\n",
       "      <td>200</td>\n",
       "      <td>512495</td>\n",
       "      <td>python-requests/2.21.0</td>\n",
       "    </tr>\n",
       "  </tbody>\n",
       "</table>\n",
       "</div>"
      ],
      "text/plain": [
       "             ip              date_time addbackDT  get            addbackGET1  \\\n",
       "0  97.105.19.58  [16/Apr/2019:19:34:42    +0000]  GET  /api/v1/sales?page=81   \n",
       "\n",
       "  addbackGET2 http_status_code content_length              user_agent  \n",
       "0    HTTP/1.1              200         512495  python-requests/2.21.0  "
      ]
     },
     "execution_count": 34,
     "metadata": {},
     "output_type": "execute_result"
    }
   ],
   "source": [
    "test.replace(to_replace='\"', value='', regex=True)"
   ]
  },
  {
   "cell_type": "code",
   "execution_count": 38,
   "metadata": {},
   "outputs": [],
   "source": [
    "test['date_time_full'] = test['date_time'].map(str) + ' ' + test['addbackDT']"
   ]
  },
  {
   "cell_type": "code",
   "execution_count": 39,
   "metadata": {},
   "outputs": [
    {
     "data": {
      "text/html": [
       "<div>\n",
       "<style scoped>\n",
       "    .dataframe tbody tr th:only-of-type {\n",
       "        vertical-align: middle;\n",
       "    }\n",
       "\n",
       "    .dataframe tbody tr th {\n",
       "        vertical-align: top;\n",
       "    }\n",
       "\n",
       "    .dataframe thead th {\n",
       "        text-align: right;\n",
       "    }\n",
       "</style>\n",
       "<table border=\"1\" class=\"dataframe\">\n",
       "  <thead>\n",
       "    <tr style=\"text-align: right;\">\n",
       "      <th></th>\n",
       "      <th>ip</th>\n",
       "      <th>date_time</th>\n",
       "      <th>addbackDT</th>\n",
       "      <th>get</th>\n",
       "      <th>addbackGET1</th>\n",
       "      <th>addbackGET2</th>\n",
       "      <th>http_status_code</th>\n",
       "      <th>content_length</th>\n",
       "      <th>user_agent</th>\n",
       "      <th>date_time_full</th>\n",
       "    </tr>\n",
       "  </thead>\n",
       "  <tbody>\n",
       "    <tr>\n",
       "      <th>0</th>\n",
       "      <td>97.105.19.58</td>\n",
       "      <td>[16/Apr/2019:19:34:42</td>\n",
       "      <td>+0000]</td>\n",
       "      <td>\"GET</td>\n",
       "      <td>/api/v1/sales?page=81</td>\n",
       "      <td>HTTP/1.1\"</td>\n",
       "      <td>200</td>\n",
       "      <td>512495</td>\n",
       "      <td>\"python-requests/2.21.0\"</td>\n",
       "      <td>[16/Apr/2019:19:34:42 +0000]</td>\n",
       "    </tr>\n",
       "  </tbody>\n",
       "</table>\n",
       "</div>"
      ],
      "text/plain": [
       "             ip              date_time addbackDT   get            addbackGET1  \\\n",
       "0  97.105.19.58  [16/Apr/2019:19:34:42    +0000]  \"GET  /api/v1/sales?page=81   \n",
       "\n",
       "  addbackGET2 http_status_code content_length                user_agent  \\\n",
       "0   HTTP/1.1\"              200         512495  \"python-requests/2.21.0\"   \n",
       "\n",
       "                 date_time_full  \n",
       "0  [16/Apr/2019:19:34:42 +0000]  "
      ]
     },
     "execution_count": 39,
     "metadata": {},
     "output_type": "execute_result"
    }
   ],
   "source": [
    "test"
   ]
  },
  {
   "cell_type": "code",
   "execution_count": 40,
   "metadata": {},
   "outputs": [],
   "source": [
    "test['get_full'] = test['get'].map(str) + ' ' + test['addbackGET1'] + ' ' + test['addbackGET2']"
   ]
  },
  {
   "cell_type": "code",
   "execution_count": 41,
   "metadata": {},
   "outputs": [
    {
     "data": {
      "text/html": [
       "<div>\n",
       "<style scoped>\n",
       "    .dataframe tbody tr th:only-of-type {\n",
       "        vertical-align: middle;\n",
       "    }\n",
       "\n",
       "    .dataframe tbody tr th {\n",
       "        vertical-align: top;\n",
       "    }\n",
       "\n",
       "    .dataframe thead th {\n",
       "        text-align: right;\n",
       "    }\n",
       "</style>\n",
       "<table border=\"1\" class=\"dataframe\">\n",
       "  <thead>\n",
       "    <tr style=\"text-align: right;\">\n",
       "      <th></th>\n",
       "      <th>ip</th>\n",
       "      <th>date_time</th>\n",
       "      <th>addbackDT</th>\n",
       "      <th>get</th>\n",
       "      <th>addbackGET1</th>\n",
       "      <th>addbackGET2</th>\n",
       "      <th>http_status_code</th>\n",
       "      <th>content_length</th>\n",
       "      <th>user_agent</th>\n",
       "      <th>date_time_full</th>\n",
       "      <th>get_full</th>\n",
       "    </tr>\n",
       "  </thead>\n",
       "  <tbody>\n",
       "    <tr>\n",
       "      <th>0</th>\n",
       "      <td>97.105.19.58</td>\n",
       "      <td>[16/Apr/2019:19:34:42</td>\n",
       "      <td>+0000]</td>\n",
       "      <td>\"GET</td>\n",
       "      <td>/api/v1/sales?page=81</td>\n",
       "      <td>HTTP/1.1\"</td>\n",
       "      <td>200</td>\n",
       "      <td>512495</td>\n",
       "      <td>\"python-requests/2.21.0\"</td>\n",
       "      <td>[16/Apr/2019:19:34:42 +0000]</td>\n",
       "      <td>\"GET /api/v1/sales?page=81 HTTP/1.1\"</td>\n",
       "    </tr>\n",
       "  </tbody>\n",
       "</table>\n",
       "</div>"
      ],
      "text/plain": [
       "             ip              date_time addbackDT   get            addbackGET1  \\\n",
       "0  97.105.19.58  [16/Apr/2019:19:34:42    +0000]  \"GET  /api/v1/sales?page=81   \n",
       "\n",
       "  addbackGET2 http_status_code content_length                user_agent  \\\n",
       "0   HTTP/1.1\"              200         512495  \"python-requests/2.21.0\"   \n",
       "\n",
       "                 date_time_full                              get_full  \n",
       "0  [16/Apr/2019:19:34:42 +0000]  \"GET /api/v1/sales?page=81 HTTP/1.1\"  "
      ]
     },
     "execution_count": 41,
     "metadata": {},
     "output_type": "execute_result"
    }
   ],
   "source": [
    "test"
   ]
  },
  {
   "cell_type": "code",
   "execution_count": 42,
   "metadata": {},
   "outputs": [
    {
     "data": {
      "text/plain": [
       "Index(['ip', 'date_time', 'addbackDT', 'get', 'addbackGET1', 'addbackGET2',\n",
       "       'http_status_code', 'content_length', 'user_agent', 'date_time_full',\n",
       "       'get_full'],\n",
       "      dtype='object')"
      ]
     },
     "execution_count": 42,
     "metadata": {},
     "output_type": "execute_result"
    }
   ],
   "source": [
    "test.columns"
   ]
  },
  {
   "cell_type": "code",
   "execution_count": 44,
   "metadata": {},
   "outputs": [],
   "source": [
    "test.drop(['date_time', 'addbackDT', 'get', 'addbackGET1', 'addbackGET2',], axis=1, inplace=True)"
   ]
  },
  {
   "cell_type": "code",
   "execution_count": 45,
   "metadata": {},
   "outputs": [
    {
     "data": {
      "text/html": [
       "<div>\n",
       "<style scoped>\n",
       "    .dataframe tbody tr th:only-of-type {\n",
       "        vertical-align: middle;\n",
       "    }\n",
       "\n",
       "    .dataframe tbody tr th {\n",
       "        vertical-align: top;\n",
       "    }\n",
       "\n",
       "    .dataframe thead th {\n",
       "        text-align: right;\n",
       "    }\n",
       "</style>\n",
       "<table border=\"1\" class=\"dataframe\">\n",
       "  <thead>\n",
       "    <tr style=\"text-align: right;\">\n",
       "      <th></th>\n",
       "      <th>ip</th>\n",
       "      <th>http_status_code</th>\n",
       "      <th>content_length</th>\n",
       "      <th>user_agent</th>\n",
       "      <th>date_time_full</th>\n",
       "      <th>get_full</th>\n",
       "    </tr>\n",
       "  </thead>\n",
       "  <tbody>\n",
       "    <tr>\n",
       "      <th>0</th>\n",
       "      <td>97.105.19.58</td>\n",
       "      <td>200</td>\n",
       "      <td>512495</td>\n",
       "      <td>\"python-requests/2.21.0\"</td>\n",
       "      <td>[16/Apr/2019:19:34:42 +0000]</td>\n",
       "      <td>\"GET /api/v1/sales?page=81 HTTP/1.1\"</td>\n",
       "    </tr>\n",
       "  </tbody>\n",
       "</table>\n",
       "</div>"
      ],
      "text/plain": [
       "             ip http_status_code content_length                user_agent  \\\n",
       "0  97.105.19.58              200         512495  \"python-requests/2.21.0\"   \n",
       "\n",
       "                 date_time_full                              get_full  \n",
       "0  [16/Apr/2019:19:34:42 +0000]  \"GET /api/v1/sales?page=81 HTTP/1.1\"  "
      ]
     },
     "execution_count": 45,
     "metadata": {},
     "output_type": "execute_result"
    }
   ],
   "source": [
    "test"
   ]
  },
  {
   "cell_type": "code",
   "execution_count": 50,
   "metadata": {},
   "outputs": [],
   "source": [
    "test = test.reindex(columns=['ip','date_time_full','get_full','http_status_code', 'content_length', 'user_agent'])"
   ]
  },
  {
   "cell_type": "code",
   "execution_count": 51,
   "metadata": {},
   "outputs": [
    {
     "data": {
      "text/html": [
       "<div>\n",
       "<style scoped>\n",
       "    .dataframe tbody tr th:only-of-type {\n",
       "        vertical-align: middle;\n",
       "    }\n",
       "\n",
       "    .dataframe tbody tr th {\n",
       "        vertical-align: top;\n",
       "    }\n",
       "\n",
       "    .dataframe thead th {\n",
       "        text-align: right;\n",
       "    }\n",
       "</style>\n",
       "<table border=\"1\" class=\"dataframe\">\n",
       "  <thead>\n",
       "    <tr style=\"text-align: right;\">\n",
       "      <th></th>\n",
       "      <th>ip</th>\n",
       "      <th>date_time_full</th>\n",
       "      <th>get_full</th>\n",
       "      <th>http_status_code</th>\n",
       "      <th>content_length</th>\n",
       "      <th>user_agent</th>\n",
       "    </tr>\n",
       "  </thead>\n",
       "  <tbody>\n",
       "    <tr>\n",
       "      <th>0</th>\n",
       "      <td>97.105.19.58</td>\n",
       "      <td>[16/Apr/2019:19:34:42 +0000]</td>\n",
       "      <td>\"GET /api/v1/sales?page=81 HTTP/1.1\"</td>\n",
       "      <td>200</td>\n",
       "      <td>512495</td>\n",
       "      <td>\"python-requests/2.21.0\"</td>\n",
       "    </tr>\n",
       "  </tbody>\n",
       "</table>\n",
       "</div>"
      ],
      "text/plain": [
       "             ip                date_time_full  \\\n",
       "0  97.105.19.58  [16/Apr/2019:19:34:42 +0000]   \n",
       "\n",
       "                               get_full http_status_code content_length  \\\n",
       "0  \"GET /api/v1/sales?page=81 HTTP/1.1\"              200         512495   \n",
       "\n",
       "                 user_agent  \n",
       "0  \"python-requests/2.21.0\"  "
      ]
     },
     "execution_count": 51,
     "metadata": {},
     "output_type": "execute_result"
    }
   ],
   "source": [
    "test"
   ]
  },
  {
   "cell_type": "code",
   "execution_count": 54,
   "metadata": {},
   "outputs": [],
   "source": [
    "test.replace(to_replace='\"', value='', regex=True, inplace=True)"
   ]
  },
  {
   "cell_type": "code",
   "execution_count": 56,
   "metadata": {},
   "outputs": [
    {
     "data": {
      "text/html": [
       "<div>\n",
       "<style scoped>\n",
       "    .dataframe tbody tr th:only-of-type {\n",
       "        vertical-align: middle;\n",
       "    }\n",
       "\n",
       "    .dataframe tbody tr th {\n",
       "        vertical-align: top;\n",
       "    }\n",
       "\n",
       "    .dataframe thead th {\n",
       "        text-align: right;\n",
       "    }\n",
       "</style>\n",
       "<table border=\"1\" class=\"dataframe\">\n",
       "  <thead>\n",
       "    <tr style=\"text-align: right;\">\n",
       "      <th></th>\n",
       "      <th>ip</th>\n",
       "      <th>date_time_full</th>\n",
       "      <th>get_full</th>\n",
       "      <th>http_status_code</th>\n",
       "      <th>content_length</th>\n",
       "      <th>user_agent</th>\n",
       "    </tr>\n",
       "  </thead>\n",
       "  <tbody>\n",
       "    <tr>\n",
       "      <th>0</th>\n",
       "      <td>97.105.19.58</td>\n",
       "      <td>[16/Apr/2019:19:34:42 +0000]</td>\n",
       "      <td>GET /api/v1/sales?page=81 HTTP/1.1</td>\n",
       "      <td>200</td>\n",
       "      <td>512495</td>\n",
       "      <td>python-requests/2.21.0</td>\n",
       "    </tr>\n",
       "  </tbody>\n",
       "</table>\n",
       "</div>"
      ],
      "text/plain": [
       "             ip                date_time_full  \\\n",
       "0  97.105.19.58  [16/Apr/2019:19:34:42 +0000]   \n",
       "\n",
       "                             get_full http_status_code content_length  \\\n",
       "0  GET /api/v1/sales?page=81 HTTP/1.1              200         512495   \n",
       "\n",
       "               user_agent  \n",
       "0  python-requests/2.21.0  "
      ]
     },
     "execution_count": 56,
     "metadata": {},
     "output_type": "execute_result"
    }
   ],
   "source": [
    "test"
   ]
  },
  {
   "cell_type": "code",
   "execution_count": null,
   "metadata": {},
   "outputs": [],
   "source": []
  }
 ],
 "metadata": {
  "kernelspec": {
   "display_name": "Python 3",
   "language": "python",
   "name": "python3"
  },
  "language_info": {
   "codemirror_mode": {
    "name": "ipython",
    "version": 3
   },
   "file_extension": ".py",
   "mimetype": "text/x-python",
   "name": "python",
   "nbconvert_exporter": "python",
   "pygments_lexer": "ipython3",
   "version": "3.7.1"
  }
 },
 "nbformat": 4,
 "nbformat_minor": 2
}
