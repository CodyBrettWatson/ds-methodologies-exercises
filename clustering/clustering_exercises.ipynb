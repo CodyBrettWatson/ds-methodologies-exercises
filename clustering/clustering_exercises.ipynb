{
 "cells": [
  {
   "cell_type": "code",
   "execution_count": 1,
   "metadata": {},
   "outputs": [],
   "source": [
    "import warnings\n",
    "warnings.filterwarnings('ignore')\n",
    "import pandas as pd\n",
    "import numpy as np\n",
    "import seaborn as sns\n",
    "import math as m\n",
    "from acquire import *\n",
    "from prepare_zillow import *"
   ]
  },
  {
   "cell_type": "code",
   "execution_count": 2,
   "metadata": {},
   "outputs": [],
   "source": [
    "# turn_to_csv()"
   ]
  },
  {
   "cell_type": "code",
   "execution_count": 3,
   "metadata": {},
   "outputs": [],
   "source": [
    "df = pd.read_csv('zillow_16_17.csv', sep='\\t')"
   ]
  },
  {
   "cell_type": "code",
   "execution_count": 4,
   "metadata": {},
   "outputs": [],
   "source": [
    "df = drop_columns(df)"
   ]
  },
  {
   "cell_type": "code",
   "execution_count": 5,
   "metadata": {},
   "outputs": [],
   "source": [
    "df = reindex_df(df)"
   ]
  },
  {
   "cell_type": "code",
   "execution_count": 6,
   "metadata": {},
   "outputs": [],
   "source": [
    "df = lat_long_null_values(df)"
   ]
  },
  {
   "cell_type": "code",
   "execution_count": 7,
   "metadata": {},
   "outputs": [],
   "source": [
    "df = drop_null(df)"
   ]
  },
  {
   "cell_type": "code",
   "execution_count": 8,
   "metadata": {},
   "outputs": [],
   "source": [
    "df = unitcnt(df)"
   ]
  },
  {
   "cell_type": "code",
   "execution_count": 9,
   "metadata": {},
   "outputs": [],
   "source": [
    "df = dropna_fields(df)"
   ]
  },
  {
   "cell_type": "code",
   "execution_count": 10,
   "metadata": {},
   "outputs": [
    {
     "data": {
      "text/plain": [
       "0"
      ]
     },
     "execution_count": 10,
     "metadata": {},
     "output_type": "execute_result"
    }
   ],
   "source": [
    "df.unitcnt.isnull().sum()"
   ]
  },
  {
   "cell_type": "code",
   "execution_count": 11,
   "metadata": {},
   "outputs": [],
   "source": [
    "# from scipy import stats\n",
    "# pdf = df[(np.abs(stats.zscore(df)) < 3).all(axis=1)]"
   ]
  },
  {
   "cell_type": "code",
   "execution_count": 12,
   "metadata": {},
   "outputs": [],
   "source": [
    "# col = df.columns\n",
    "\n",
    "# q = df[col].quantile(0.99)\n",
    "# pdf = df[df[col] < q]\n",
    "# pdf"
   ]
  },
  {
   "cell_type": "code",
   "execution_count": 13,
   "metadata": {},
   "outputs": [
    {
     "data": {
      "text/plain": [
       "['propertylandusedesc',\n",
       " 'propertycountylandusecode',\n",
       " 'propertyzoningdesc',\n",
       " 'airconditioningdesc',\n",
       " 'heatingorsystemdesc',\n",
       " 'taxdelinquencyflag',\n",
       " 'architecturalstyledesc',\n",
       " 'buildingclassdesc',\n",
       " 'storydesc',\n",
       " 'typeconstructiondesc']"
      ]
     },
     "execution_count": 13,
     "metadata": {},
     "output_type": "execute_result"
    }
   ],
   "source": [
    "list(df.select_dtypes(include='object'))"
   ]
  },
  {
   "cell_type": "code",
   "execution_count": 14,
   "metadata": {},
   "outputs": [],
   "source": [
    "df = field_temp_drop(df)"
   ]
  },
  {
   "cell_type": "code",
   "execution_count": 18,
   "metadata": {},
   "outputs": [
    {
     "data": {
      "text/plain": [
       "parcelid                            0\n",
       "logerror                            0\n",
       "bathroomcnt                         0\n",
       "bedroomcnt                          0\n",
       "calculatedbathnbr                   0\n",
       "fullbathcnt                         0\n",
       "roomcnt                             0\n",
       "calculatedfinishedsquarefeet        0\n",
       "lotsizesquarefeet                2488\n",
       "unitcnt                             0\n",
       "propertylandusedesc                 0\n",
       "propertycountylandusecode           0\n",
       "propertyzoningdesc                397\n",
       "latitude                            0\n",
       "longitude                           0\n",
       "regionidcity                     2048\n",
       "regionidcounty                      0\n",
       "fips                                0\n",
       "regionidneighborhood            47417\n",
       "regionidzip                        18\n",
       "yearbuilt                          20\n",
       "structuretaxvaluedollarcnt        110\n",
       "taxvaluedollarcnt                   0\n",
       "landtaxvaluedollarcnt               0\n",
       "taxamount                           8\n",
       "assessmentyear                      0\n",
       "rawcensustractandblock              0\n",
       "censustractandblock               198\n",
       "airconditioningdesc             53682\n",
       "heatingorsystemdesc              1473\n",
       "dtype: int64"
      ]
     },
     "execution_count": 18,
     "metadata": {},
     "output_type": "execute_result"
    }
   ],
   "source": [
    "df.isnull().sum()"
   ]
  },
  {
   "cell_type": "code",
   "execution_count": 19,
   "metadata": {},
   "outputs": [
    {
     "data": {
      "text/plain": [
       "(97159, 30)"
      ]
     },
     "execution_count": 19,
     "metadata": {},
     "output_type": "execute_result"
    }
   ],
   "source": [
    "df.shape"
   ]
  },
  {
   "cell_type": "code",
   "execution_count": null,
   "metadata": {},
   "outputs": [],
   "source": []
  }
 ],
 "metadata": {
  "kernelspec": {
   "display_name": "Python 3",
   "language": "python",
   "name": "python3"
  },
  "language_info": {
   "codemirror_mode": {
    "name": "ipython",
    "version": 3
   },
   "file_extension": ".py",
   "mimetype": "text/x-python",
   "name": "python",
   "nbconvert_exporter": "python",
   "pygments_lexer": "ipython3",
   "version": "3.7.1"
  }
 },
 "nbformat": 4,
 "nbformat_minor": 2
}
